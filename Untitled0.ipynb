{
  "nbformat": 4,
  "nbformat_minor": 0,
  "metadata": {
    "colab": {
      "name": "Untitled0.ipynb",
      "provenance": [],
      "collapsed_sections": [],
      "authorship_tag": "ABX9TyN+raTkveIV2ydcYt5R9VWo",
      "include_colab_link": true
    },
    "kernelspec": {
      "name": "python3",
      "display_name": "Python 3"
    },
    "language_info": {
      "name": "python"
    }
  },
  "cells": [
    {
      "cell_type": "markdown",
      "metadata": {
        "id": "view-in-github",
        "colab_type": "text"
      },
      "source": [
        "<a href=\"https://colab.research.google.com/github/yaneura-no-gomi/yaneura-no-gomi/blob/main/Untitled0.ipynb\" target=\"_parent\"><img src=\"https://colab.research.google.com/assets/colab-badge.svg\" alt=\"Open In Colab\"/></a>"
      ]
    },
    {
      "cell_type": "code",
      "source": [
        "import sys\n",
        "import os\n",
        "import lightgbm as lgb\n",
        "import pandas as pd\n",
        "import torch\n",
        "import random\n",
        "import numpy as np\n",
        "from sklearn import preprocessing as pp\n",
        "from typing import List"
      ],
      "metadata": {
        "id": "DVcFBm8hFwY6"
      },
      "execution_count": 1,
      "outputs": []
    },
    {
      "cell_type": "code",
      "execution_count": 2,
      "metadata": {
        "id": "2JSkYWKrFXL5",
        "colab": {
          "base_uri": "https://localhost:8080/"
        },
        "outputId": "96534246-b72b-4bbe-c3e4-eda9ba0c0871"
      },
      "outputs": [
        {
          "output_type": "stream",
          "name": "stdout",
          "text": [
            "Mounted at /content/drive\n"
          ]
        }
      ],
      "source": [
        "from google.colab import drive\n",
        "drive.mount('/content/drive')"
      ]
    },
    {
      "cell_type": "code",
      "source": [
        "input_path = os.path.join(\"/content/drive/MyDrive/Protein\")\n",
        "train = pd.read_csv(os.path.join(input_path, \"pdb_data_no_dups.csv\"))\n",
        "use_cols = [\n",
        "            'experimentalTechnique',\n",
        "            'macromoleculeType',\n",
        "            'residueCount',\n",
        "            'resolution',\n",
        "            'structureMolecularWeight',\n",
        "            'crystallizationMethod',\n",
        "            'crystallizationTempK',\n",
        "            'densityMatthews',\n",
        "            'densityPercentSol',\n",
        "            'phValue',\n",
        "            'publicationYear',\n",
        "            'classification'\n",
        "        ]\n",
        "train = train.loc[:, use_cols]"
      ],
      "metadata": {
        "id": "WucycAXBF7PU"
      },
      "execution_count": 3,
      "outputs": []
    },
    {
      "cell_type": "code",
      "source": [
        "train.head()"
      ],
      "metadata": {
        "colab": {
          "base_uri": "https://localhost:8080/",
          "height": 340
        },
        "id": "T6E5IBEnGNrR",
        "outputId": "19332901-bbd0-4a97-a2f6-f8d5e58f0fc5"
      },
      "execution_count": 4,
      "outputs": [
        {
          "output_type": "execute_result",
          "data": {
            "text/plain": [
              "  experimentalTechnique macromoleculeType  residueCount  resolution  \\\n",
              "0     X-RAY DIFFRACTION    DNA/RNA Hybrid            20        1.90   \n",
              "1     X-RAY DIFFRACTION               DNA            24        2.25   \n",
              "2     X-RAY DIFFRACTION           Protein           154        2.07   \n",
              "3     X-RAY DIFFRACTION               DNA            24        2.20   \n",
              "4     X-RAY DIFFRACTION           Protein           165        1.74   \n",
              "\n",
              "   structureMolecularWeight          crystallizationMethod  \\\n",
              "0                   6360.30  VAPOR DIFFUSION, HANGING DROP   \n",
              "1                   7939.35                            NaN   \n",
              "2                  18112.80                            NaN   \n",
              "3                   7637.17  VAPOR DIFFUSION, SITTING DROP   \n",
              "4                  18926.61                            NaN   \n",
              "\n",
              "   crystallizationTempK  densityMatthews  densityPercentSol  phValue  \\\n",
              "0                   NaN             1.78              30.89      7.0   \n",
              "1                   NaN             2.00              38.45      NaN   \n",
              "2                   NaN             3.09              60.20      9.0   \n",
              "3                 277.0             2.28              46.06      7.0   \n",
              "4                   NaN             2.75              55.28      NaN   \n",
              "\n",
              "   publicationYear         classification  \n",
              "0           1994.0         DNA-RNA HYBRID  \n",
              "1           1995.0                    DNA  \n",
              "2           1999.0       OXYGEN TRANSPORT  \n",
              "3           1995.0                    DNA  \n",
              "4           1993.0  HYDROLASE(O-GLYCOSYL)  "
            ],
            "text/html": [
              "\n",
              "  <div id=\"df-acdfd74f-3e7f-4a8d-947d-a8b17fe08abb\">\n",
              "    <div class=\"colab-df-container\">\n",
              "      <div>\n",
              "<style scoped>\n",
              "    .dataframe tbody tr th:only-of-type {\n",
              "        vertical-align: middle;\n",
              "    }\n",
              "\n",
              "    .dataframe tbody tr th {\n",
              "        vertical-align: top;\n",
              "    }\n",
              "\n",
              "    .dataframe thead th {\n",
              "        text-align: right;\n",
              "    }\n",
              "</style>\n",
              "<table border=\"1\" class=\"dataframe\">\n",
              "  <thead>\n",
              "    <tr style=\"text-align: right;\">\n",
              "      <th></th>\n",
              "      <th>experimentalTechnique</th>\n",
              "      <th>macromoleculeType</th>\n",
              "      <th>residueCount</th>\n",
              "      <th>resolution</th>\n",
              "      <th>structureMolecularWeight</th>\n",
              "      <th>crystallizationMethod</th>\n",
              "      <th>crystallizationTempK</th>\n",
              "      <th>densityMatthews</th>\n",
              "      <th>densityPercentSol</th>\n",
              "      <th>phValue</th>\n",
              "      <th>publicationYear</th>\n",
              "      <th>classification</th>\n",
              "    </tr>\n",
              "  </thead>\n",
              "  <tbody>\n",
              "    <tr>\n",
              "      <th>0</th>\n",
              "      <td>X-RAY DIFFRACTION</td>\n",
              "      <td>DNA/RNA Hybrid</td>\n",
              "      <td>20</td>\n",
              "      <td>1.90</td>\n",
              "      <td>6360.30</td>\n",
              "      <td>VAPOR DIFFUSION, HANGING DROP</td>\n",
              "      <td>NaN</td>\n",
              "      <td>1.78</td>\n",
              "      <td>30.89</td>\n",
              "      <td>7.0</td>\n",
              "      <td>1994.0</td>\n",
              "      <td>DNA-RNA HYBRID</td>\n",
              "    </tr>\n",
              "    <tr>\n",
              "      <th>1</th>\n",
              "      <td>X-RAY DIFFRACTION</td>\n",
              "      <td>DNA</td>\n",
              "      <td>24</td>\n",
              "      <td>2.25</td>\n",
              "      <td>7939.35</td>\n",
              "      <td>NaN</td>\n",
              "      <td>NaN</td>\n",
              "      <td>2.00</td>\n",
              "      <td>38.45</td>\n",
              "      <td>NaN</td>\n",
              "      <td>1995.0</td>\n",
              "      <td>DNA</td>\n",
              "    </tr>\n",
              "    <tr>\n",
              "      <th>2</th>\n",
              "      <td>X-RAY DIFFRACTION</td>\n",
              "      <td>Protein</td>\n",
              "      <td>154</td>\n",
              "      <td>2.07</td>\n",
              "      <td>18112.80</td>\n",
              "      <td>NaN</td>\n",
              "      <td>NaN</td>\n",
              "      <td>3.09</td>\n",
              "      <td>60.20</td>\n",
              "      <td>9.0</td>\n",
              "      <td>1999.0</td>\n",
              "      <td>OXYGEN TRANSPORT</td>\n",
              "    </tr>\n",
              "    <tr>\n",
              "      <th>3</th>\n",
              "      <td>X-RAY DIFFRACTION</td>\n",
              "      <td>DNA</td>\n",
              "      <td>24</td>\n",
              "      <td>2.20</td>\n",
              "      <td>7637.17</td>\n",
              "      <td>VAPOR DIFFUSION, SITTING DROP</td>\n",
              "      <td>277.0</td>\n",
              "      <td>2.28</td>\n",
              "      <td>46.06</td>\n",
              "      <td>7.0</td>\n",
              "      <td>1995.0</td>\n",
              "      <td>DNA</td>\n",
              "    </tr>\n",
              "    <tr>\n",
              "      <th>4</th>\n",
              "      <td>X-RAY DIFFRACTION</td>\n",
              "      <td>Protein</td>\n",
              "      <td>165</td>\n",
              "      <td>1.74</td>\n",
              "      <td>18926.61</td>\n",
              "      <td>NaN</td>\n",
              "      <td>NaN</td>\n",
              "      <td>2.75</td>\n",
              "      <td>55.28</td>\n",
              "      <td>NaN</td>\n",
              "      <td>1993.0</td>\n",
              "      <td>HYDROLASE(O-GLYCOSYL)</td>\n",
              "    </tr>\n",
              "  </tbody>\n",
              "</table>\n",
              "</div>\n",
              "      <button class=\"colab-df-convert\" onclick=\"convertToInteractive('df-acdfd74f-3e7f-4a8d-947d-a8b17fe08abb')\"\n",
              "              title=\"Convert this dataframe to an interactive table.\"\n",
              "              style=\"display:none;\">\n",
              "        \n",
              "  <svg xmlns=\"http://www.w3.org/2000/svg\" height=\"24px\"viewBox=\"0 0 24 24\"\n",
              "       width=\"24px\">\n",
              "    <path d=\"M0 0h24v24H0V0z\" fill=\"none\"/>\n",
              "    <path d=\"M18.56 5.44l.94 2.06.94-2.06 2.06-.94-2.06-.94-.94-2.06-.94 2.06-2.06.94zm-11 1L8.5 8.5l.94-2.06 2.06-.94-2.06-.94L8.5 2.5l-.94 2.06-2.06.94zm10 10l.94 2.06.94-2.06 2.06-.94-2.06-.94-.94-2.06-.94 2.06-2.06.94z\"/><path d=\"M17.41 7.96l-1.37-1.37c-.4-.4-.92-.59-1.43-.59-.52 0-1.04.2-1.43.59L10.3 9.45l-7.72 7.72c-.78.78-.78 2.05 0 2.83L4 21.41c.39.39.9.59 1.41.59.51 0 1.02-.2 1.41-.59l7.78-7.78 2.81-2.81c.8-.78.8-2.07 0-2.86zM5.41 20L4 18.59l7.72-7.72 1.47 1.35L5.41 20z\"/>\n",
              "  </svg>\n",
              "      </button>\n",
              "      \n",
              "  <style>\n",
              "    .colab-df-container {\n",
              "      display:flex;\n",
              "      flex-wrap:wrap;\n",
              "      gap: 12px;\n",
              "    }\n",
              "\n",
              "    .colab-df-convert {\n",
              "      background-color: #E8F0FE;\n",
              "      border: none;\n",
              "      border-radius: 50%;\n",
              "      cursor: pointer;\n",
              "      display: none;\n",
              "      fill: #1967D2;\n",
              "      height: 32px;\n",
              "      padding: 0 0 0 0;\n",
              "      width: 32px;\n",
              "    }\n",
              "\n",
              "    .colab-df-convert:hover {\n",
              "      background-color: #E2EBFA;\n",
              "      box-shadow: 0px 1px 2px rgba(60, 64, 67, 0.3), 0px 1px 3px 1px rgba(60, 64, 67, 0.15);\n",
              "      fill: #174EA6;\n",
              "    }\n",
              "\n",
              "    [theme=dark] .colab-df-convert {\n",
              "      background-color: #3B4455;\n",
              "      fill: #D2E3FC;\n",
              "    }\n",
              "\n",
              "    [theme=dark] .colab-df-convert:hover {\n",
              "      background-color: #434B5C;\n",
              "      box-shadow: 0px 1px 3px 1px rgba(0, 0, 0, 0.15);\n",
              "      filter: drop-shadow(0px 1px 2px rgba(0, 0, 0, 0.3));\n",
              "      fill: #FFFFFF;\n",
              "    }\n",
              "  </style>\n",
              "\n",
              "      <script>\n",
              "        const buttonEl =\n",
              "          document.querySelector('#df-acdfd74f-3e7f-4a8d-947d-a8b17fe08abb button.colab-df-convert');\n",
              "        buttonEl.style.display =\n",
              "          google.colab.kernel.accessAllowed ? 'block' : 'none';\n",
              "\n",
              "        async function convertToInteractive(key) {\n",
              "          const element = document.querySelector('#df-acdfd74f-3e7f-4a8d-947d-a8b17fe08abb');\n",
              "          const dataTable =\n",
              "            await google.colab.kernel.invokeFunction('convertToInteractive',\n",
              "                                                     [key], {});\n",
              "          if (!dataTable) return;\n",
              "\n",
              "          const docLinkHtml = 'Like what you see? Visit the ' +\n",
              "            '<a target=\"_blank\" href=https://colab.research.google.com/notebooks/data_table.ipynb>data table notebook</a>'\n",
              "            + ' to learn more about interactive tables.';\n",
              "          element.innerHTML = '';\n",
              "          dataTable['output_type'] = 'display_data';\n",
              "          await google.colab.output.renderOutput(dataTable, element);\n",
              "          const docLink = document.createElement('div');\n",
              "          docLink.innerHTML = docLinkHtml;\n",
              "          element.appendChild(docLink);\n",
              "        }\n",
              "      </script>\n",
              "    </div>\n",
              "  </div>\n",
              "  "
            ]
          },
          "metadata": {},
          "execution_count": 4
        }
      ]
    },
    {
      "cell_type": "code",
      "source": [
        "class DefaultPreprocessor:\n",
        "    def __init__(self, df):\n",
        "        self.train = df.copy()\n",
        "    def fit_transform(self, category_cols: List) -> pd.DataFrame:\n",
        "        le = pp.LabelEncoder()\n",
        "        self.train.loc[:, category_cols] = self.train[category_cols].apply(le.fit_transform)\n",
        "        return self.train"
      ],
      "metadata": {
        "id": "2Ez4TwP3G5_Q"
      },
      "execution_count": 5,
      "outputs": []
    },
    {
      "cell_type": "code",
      "source": [
        "category_cols = [\n",
        "            'experimentalTechnique',\n",
        "            'macromoleculeType',\n",
        "            'crystallizationMethod',\n",
        "            'classification'\n",
        "        ]"
      ],
      "metadata": {
        "id": "uRCBn1WhIcfO"
      },
      "execution_count": 6,
      "outputs": []
    },
    {
      "cell_type": "code",
      "source": [
        "dp = DefaultPreprocessor(train)\n",
        "p_train = dp.fit_transform(category_cols)"
      ],
      "metadata": {
        "id": "2dLSGZVlHpyv"
      },
      "execution_count": 7,
      "outputs": []
    },
    {
      "cell_type": "code",
      "source": [
        "train['classification'].nunique()"
      ],
      "metadata": {
        "colab": {
          "base_uri": "https://localhost:8080/"
        },
        "id": "bkEYkngIJO_s",
        "outputId": "2b8ab67f-7215-4782-eb46-da7de41a0aee"
      },
      "execution_count": 8,
      "outputs": [
        {
          "output_type": "execute_result",
          "data": {
            "text/plain": [
              "5050"
            ]
          },
          "metadata": {},
          "execution_count": 8
        }
      ]
    },
    {
      "cell_type": "code",
      "source": [
        "train.query(\"macromoleculeType=='DNA'\")['classification'].value_counts()"
      ],
      "metadata": {
        "colab": {
          "base_uri": "https://localhost:8080/"
        },
        "id": "QdKSyL8VJu9j",
        "outputId": "d3bd8bb9-4aff-4b04-8aac-8278e0a9a6ce"
      },
      "execution_count": 9,
      "outputs": [
        {
          "output_type": "execute_result",
          "data": {
            "text/plain": [
              "DNA                         1714\n",
              "PEPTIDE NUCLEIC ACID           7\n",
              "DNA/ANTIBIOTIC                 6\n",
              "PEPTIDE NUCLEIC ACID/DNA       3\n",
              "NUCLEIC ACID                   3\n",
              "DNA/PEPTIDE NUCLEIC ACID       2\n",
              "DNA/antibiotic                 2\n",
              "dna/antibiotic                 2\n",
              "DNA/INHIBITOR                  1\n",
              "DNA/DNA INHIBITOR              1\n",
              "Peptide Nucleic Acid           1\n",
              "DRUG/DNA                       1\n",
              "DNA BINDING PROTEIN            1\n",
              "Name: classification, dtype: int64"
            ]
          },
          "metadata": {},
          "execution_count": 9
        }
      ]
    },
    {
      "cell_type": "code",
      "source": [
        "train['classification'].value_counts()[:40]"
      ],
      "metadata": {
        "colab": {
          "base_uri": "https://localhost:8080/"
        },
        "id": "2ndnhYDvL3VZ",
        "outputId": "e3acd123-3228-46db-ef0b-f07bde47aa2c"
      },
      "execution_count": 10,
      "outputs": [
        {
          "output_type": "execute_result",
          "data": {
            "text/plain": [
              "HYDROLASE                                  20915\n",
              "TRANSFERASE                                15777\n",
              "OXIDOREDUCTASE                             12494\n",
              "LYASE                                       4329\n",
              "IMMUNE SYSTEM                               4075\n",
              "TRANSCRIPTION                               3691\n",
              "TRANSPORT PROTEIN                           3251\n",
              "SIGNALING PROTEIN                           2904\n",
              "HYDROLASE/HYDROLASE INHIBITOR               2677\n",
              "ISOMERASE                                   2602\n",
              "VIRAL PROTEIN                               2320\n",
              "LIGASE                                      2133\n",
              "PROTEIN BINDING                             1892\n",
              "DNA                                         1765\n",
              "STRUCTURAL GENOMICS, UNKNOWN FUNCTION       1738\n",
              "MEMBRANE PROTEIN                            1731\n",
              "TRANSFERASE/TRANSFERASE INHIBITOR           1695\n",
              "DNA BINDING PROTEIN                         1517\n",
              "RIBOSOME                                    1462\n",
              "METAL BINDING PROTEIN                       1383\n",
              "SUGAR BINDING PROTEIN                       1342\n",
              "CELL ADHESION                               1300\n",
              "UNKNOWN FUNCTION                            1281\n",
              "STRUCTURAL PROTEIN                          1260\n",
              "ELECTRON TRANSPORT                          1254\n",
              "RNA                                         1250\n",
              "TOXIN                                       1179\n",
              "CHAPERONE                                   1169\n",
              "RNA BINDING PROTEIN                          886\n",
              "PROTEIN TRANSPORT                            885\n",
              "TRANSFERASE/DNA                              785\n",
              "CELL CYCLE                                   742\n",
              "GENE REGULATION                              723\n",
              "DE NOVO PROTEIN                              654\n",
              "VIRUS                                        637\n",
              "OXIDOREDUCTASE/OXIDOREDUCTASE INHIBITOR      598\n",
              "HYDROLASE/DNA                                513\n",
              "TRANSCRIPTION/DNA                            508\n",
              "LIPID BINDING PROTEIN                        494\n",
              "APOPTOSIS                                    486\n",
              "Name: classification, dtype: int64"
            ]
          },
          "metadata": {},
          "execution_count": 10
        }
      ]
    },
    {
      "cell_type": "code",
      "source": [
        "train['experimentalTechnique'].value_counts()"
      ],
      "metadata": {
        "colab": {
          "base_uri": "https://localhost:8080/"
        },
        "id": "9Ny7QicdMEhK",
        "outputId": "49c502b6-ae93-46fd-f108-870fbafc8cb6"
      },
      "execution_count": 33,
      "outputs": [
        {
          "output_type": "execute_result",
          "data": {
            "text/plain": [
              "X-RAY DIFFRACTION                                            126432\n",
              "SOLUTION NMR                                                  12268\n",
              "ELECTRON MICROSCOPY                                            2252\n",
              "SOLID-STATE NMR                                                  99\n",
              "ELECTRON CRYSTALLOGRAPHY                                         74\n",
              "NEUTRON DIFFRACTION                                              60\n",
              "FIBER DIFFRACTION                                                40\n",
              "NEUTRON DIFFRACTION, X-RAY DIFFRACTION                           38\n",
              "X-RAY DIFFRACTION, NEUTRON DIFFRACTION                           33\n",
              "SOLUTION SCATTERING                                              32\n",
              "POWDER DIFFRACTION                                               19\n",
              "SOLUTION SCATTERING, SOLUTION NMR                                 9\n",
              "SOLUTION NMR, SOLUTION SCATTERING                                 6\n",
              "SOLID-STATE NMR, ELECTRON MICROSCOPY                              5\n",
              "X-RAY DIFFRACTION, EPR                                            5\n",
              "SOLUTION NMR, THEORETICAL MODEL                                   5\n",
              "INFRARED SPECTROSCOPY                                             4\n",
              "SOLID-STATE NMR, SOLUTION NMR                                     3\n",
              "EPR, X-RAY DIFFRACTION                                            2\n",
              "THEORETICAL MODEL, SOLUTION NMR                                   2\n",
              "SOLUTION SCATTERING, ELECTRON MICROSCOPY                          1\n",
              "SOLUTION SCATTERING, X-RAY DIFFRACTION                            1\n",
              "ELECTRON MICROSCOPY, SOLID-STATE NMR                              1\n",
              "ELECTRON MICROSCOPY, SOLUTION SCATTERING, SOLID-STATE NMR         1\n",
              "ELECTRON MICROSCOPY, SOLUTION SCATTERING                          1\n",
              "FLUORESCENCE TRANSFER                                             1\n",
              "FIBER DIFFRACTION, SOLID-STATE NMR                                1\n",
              "CRYO-ELECTRON MICROSCOPY                                          1\n",
              "SOLUTION NMR, SOLID-STATE NMR                                     1\n",
              "ELECTRON DIFFRACTION                                              1\n",
              "SOLUTION NMR, EPR                                                 1\n",
              "X-RAY DIFFRACTION, SOLUTION NMR                                   1\n",
              "NEUTRON DIFFRACTION, SOLUTION NMR                                 1\n",
              "Name: experimentalTechnique, dtype: int64"
            ]
          },
          "metadata": {},
          "execution_count": 33
        }
      ]
    },
    {
      "cell_type": "code",
      "source": [
        "[t for t in train['experimentalTechnique'].unique() if ',' not in t] "
      ],
      "metadata": {
        "colab": {
          "base_uri": "https://localhost:8080/"
        },
        "id": "V1yyd7LEUaOW",
        "outputId": "34af9030-3fd9-4c22-dc27-92369d27ba8b"
      },
      "execution_count": 35,
      "outputs": [
        {
          "output_type": "execute_result",
          "data": {
            "text/plain": [
              "['X-RAY DIFFRACTION',\n",
              " 'SOLUTION NMR',\n",
              " 'FIBER DIFFRACTION',\n",
              " 'ELECTRON CRYSTALLOGRAPHY',\n",
              " 'ELECTRON MICROSCOPY',\n",
              " 'NEUTRON DIFFRACTION',\n",
              " 'SOLID-STATE NMR',\n",
              " 'INFRARED SPECTROSCOPY',\n",
              " 'SOLUTION SCATTERING',\n",
              " 'POWDER DIFFRACTION',\n",
              " 'CRYO-ELECTRON MICROSCOPY',\n",
              " 'ELECTRON DIFFRACTION',\n",
              " 'FLUORESCENCE TRANSFER']"
            ]
          },
          "metadata": {},
          "execution_count": 35
        }
      ]
    },
    {
      "cell_type": "markdown",
      "source": [
        "## `experimentTechnique` のクリーニング\n",
        "### 目的\n",
        "- `experimentTechnique`の値を分解して少数のカテゴリのみからなる\n",
        "\n",
        "### idea\n",
        "- `unique_tech` 単位に`experimentTechnique`を分解\n",
        "- `unique_tech`は`.unique`を`.split(', ')`して取得\n"
      ],
      "metadata": {
        "id": "IUtPtry-jmSV"
      }
    },
    {
      "cell_type": "code",
      "source": [
        "techs = []\n",
        "sorted_unique = []\n",
        "for ut in train['experimentalTechnique'].unique():\n",
        "    sorted_unique.append(sorted(ut.split(', ')))\n",
        "    for st in ut.split(', '):\n",
        "        techs.append(st)"
      ],
      "metadata": {
        "id": "TCDMQWc-RS57"
      },
      "execution_count": 98,
      "outputs": []
    },
    {
      "cell_type": "code",
      "source": [
        "sorted_unique"
      ],
      "metadata": {
        "colab": {
          "base_uri": "https://localhost:8080/"
        },
        "id": "-pW6TT8PlECO",
        "outputId": "5173218e-b741-4c68-f2c4-d869733316b6"
      },
      "execution_count": 99,
      "outputs": [
        {
          "output_type": "execute_result",
          "data": {
            "text/plain": [
              "[['X-RAY DIFFRACTION'],\n",
              " ['SOLUTION NMR'],\n",
              " ['FIBER DIFFRACTION'],\n",
              " ['ELECTRON CRYSTALLOGRAPHY'],\n",
              " ['ELECTRON MICROSCOPY'],\n",
              " ['NEUTRON DIFFRACTION'],\n",
              " ['SOLID-STATE NMR'],\n",
              " ['INFRARED SPECTROSCOPY'],\n",
              " ['SOLUTION NMR', 'THEORETICAL MODEL'],\n",
              " ['SOLUTION SCATTERING'],\n",
              " ['POWDER DIFFRACTION'],\n",
              " ['CRYO-ELECTRON MICROSCOPY'],\n",
              " ['ELECTRON DIFFRACTION'],\n",
              " ['SOLUTION NMR', 'X-RAY DIFFRACTION'],\n",
              " ['SOLUTION NMR', 'THEORETICAL MODEL'],\n",
              " ['FLUORESCENCE TRANSFER'],\n",
              " ['EPR', 'X-RAY DIFFRACTION'],\n",
              " ['SOLUTION NMR', 'SOLUTION SCATTERING'],\n",
              " ['SOLID-STATE NMR', 'SOLUTION NMR'],\n",
              " ['EPR', 'SOLUTION NMR'],\n",
              " ['SOLUTION NMR', 'SOLUTION SCATTERING'],\n",
              " ['SOLID-STATE NMR', 'SOLUTION NMR'],\n",
              " ['ELECTRON MICROSCOPY', 'SOLID-STATE NMR'],\n",
              " ['EPR', 'X-RAY DIFFRACTION'],\n",
              " ['NEUTRON DIFFRACTION', 'X-RAY DIFFRACTION'],\n",
              " ['FIBER DIFFRACTION', 'SOLID-STATE NMR'],\n",
              " ['ELECTRON MICROSCOPY', 'SOLUTION SCATTERING'],\n",
              " ['ELECTRON MICROSCOPY', 'SOLUTION SCATTERING'],\n",
              " ['NEUTRON DIFFRACTION', 'X-RAY DIFFRACTION'],\n",
              " ['ELECTRON MICROSCOPY', 'SOLID-STATE NMR', 'SOLUTION SCATTERING'],\n",
              " ['ELECTRON MICROSCOPY', 'SOLID-STATE NMR'],\n",
              " ['SOLUTION SCATTERING', 'X-RAY DIFFRACTION'],\n",
              " ['NEUTRON DIFFRACTION', 'SOLUTION NMR']]"
            ]
          },
          "metadata": {},
          "execution_count": 99
        }
      ]
    },
    {
      "cell_type": "code",
      "source": [
        "len(sorted_unique), len(train['experimentalTechnique'].unique())"
      ],
      "metadata": {
        "colab": {
          "base_uri": "https://localhost:8080/"
        },
        "id": "5n1lBf50nbzn",
        "outputId": "71be4174-5aec-46e6-9869-d986bd4a0354"
      },
      "execution_count": 101,
      "outputs": [
        {
          "output_type": "execute_result",
          "data": {
            "text/plain": [
              "(33, 33)"
            ]
          },
          "metadata": {},
          "execution_count": 101
        }
      ]
    },
    {
      "cell_type": "code",
      "source": [
        "unique_tech = sorted(set(techs))\n",
        "unique_tech"
      ],
      "metadata": {
        "colab": {
          "base_uri": "https://localhost:8080/"
        },
        "id": "2fXOSIWqan7a",
        "outputId": "c102df90-ae2d-4069-c159-17595a65f92e"
      },
      "execution_count": 80,
      "outputs": [
        {
          "output_type": "execute_result",
          "data": {
            "text/plain": [
              "['CRYO-ELECTRON MICROSCOPY',\n",
              " 'ELECTRON CRYSTALLOGRAPHY',\n",
              " 'ELECTRON DIFFRACTION',\n",
              " 'ELECTRON MICROSCOPY',\n",
              " 'EPR',\n",
              " 'FIBER DIFFRACTION',\n",
              " 'FLUORESCENCE TRANSFER',\n",
              " 'INFRARED SPECTROSCOPY',\n",
              " 'NEUTRON DIFFRACTION',\n",
              " 'POWDER DIFFRACTION',\n",
              " 'SOLID-STATE NMR',\n",
              " 'SOLUTION NMR',\n",
              " 'SOLUTION SCATTERING',\n",
              " 'THEORETICAL MODEL',\n",
              " 'X-RAY DIFFRACTION']"
            ]
          },
          "metadata": {},
          "execution_count": 80
        }
      ]
    },
    {
      "cell_type": "code",
      "source": [
        "rep_dict = {n:i for i, n in enumerate(unique_tech)}\n",
        "rep_dict"
      ],
      "metadata": {
        "colab": {
          "base_uri": "https://localhost:8080/"
        },
        "id": "uqWIJ18bcdGb",
        "outputId": "83850c32-dde3-48c5-e424-1b3f8d757806"
      },
      "execution_count": 100,
      "outputs": [
        {
          "output_type": "execute_result",
          "data": {
            "text/plain": [
              "{'CRYO-ELECTRON MICROSCOPY': 0,\n",
              " 'ELECTRON CRYSTALLOGRAPHY': 1,\n",
              " 'ELECTRON DIFFRACTION': 2,\n",
              " 'ELECTRON MICROSCOPY': 3,\n",
              " 'EPR': 4,\n",
              " 'FIBER DIFFRACTION': 5,\n",
              " 'FLUORESCENCE TRANSFER': 6,\n",
              " 'INFRARED SPECTROSCOPY': 7,\n",
              " 'NEUTRON DIFFRACTION': 8,\n",
              " 'POWDER DIFFRACTION': 9,\n",
              " 'SOLID-STATE NMR': 10,\n",
              " 'SOLUTION NMR': 11,\n",
              " 'SOLUTION SCATTERING': 12,\n",
              " 'THEORETICAL MODEL': 13,\n",
              " 'X-RAY DIFFRACTION': 14}"
            ]
          },
          "metadata": {},
          "execution_count": 100
        }
      ]
    },
    {
      "cell_type": "code",
      "source": [
        "include_dummy = list(train['experimentalTechnique'].unique())\n",
        "include_dummy.append(\"dummy strings here\")\n",
        "include_dummy"
      ],
      "metadata": {
        "colab": {
          "base_uri": "https://localhost:8080/"
        },
        "id": "ZSSX6WOnhk-B",
        "outputId": "69f2fed1-d6ce-47d4-9d03-d16f3b344974"
      },
      "execution_count": 86,
      "outputs": [
        {
          "output_type": "execute_result",
          "data": {
            "text/plain": [
              "['X-RAY DIFFRACTION',\n",
              " 'SOLUTION NMR',\n",
              " 'FIBER DIFFRACTION',\n",
              " 'ELECTRON CRYSTALLOGRAPHY',\n",
              " 'ELECTRON MICROSCOPY',\n",
              " 'NEUTRON DIFFRACTION',\n",
              " 'SOLID-STATE NMR',\n",
              " 'INFRARED SPECTROSCOPY',\n",
              " 'SOLUTION NMR, THEORETICAL MODEL',\n",
              " 'SOLUTION SCATTERING',\n",
              " 'POWDER DIFFRACTION',\n",
              " 'CRYO-ELECTRON MICROSCOPY',\n",
              " 'ELECTRON DIFFRACTION',\n",
              " 'X-RAY DIFFRACTION, SOLUTION NMR',\n",
              " 'THEORETICAL MODEL, SOLUTION NMR',\n",
              " 'FLUORESCENCE TRANSFER',\n",
              " 'X-RAY DIFFRACTION, EPR',\n",
              " 'SOLUTION NMR, SOLUTION SCATTERING',\n",
              " 'SOLID-STATE NMR, SOLUTION NMR',\n",
              " 'SOLUTION NMR, EPR',\n",
              " 'SOLUTION SCATTERING, SOLUTION NMR',\n",
              " 'SOLUTION NMR, SOLID-STATE NMR',\n",
              " 'SOLID-STATE NMR, ELECTRON MICROSCOPY',\n",
              " 'EPR, X-RAY DIFFRACTION',\n",
              " 'NEUTRON DIFFRACTION, X-RAY DIFFRACTION',\n",
              " 'FIBER DIFFRACTION, SOLID-STATE NMR',\n",
              " 'SOLUTION SCATTERING, ELECTRON MICROSCOPY',\n",
              " 'ELECTRON MICROSCOPY, SOLUTION SCATTERING',\n",
              " 'X-RAY DIFFRACTION, NEUTRON DIFFRACTION',\n",
              " 'ELECTRON MICROSCOPY, SOLUTION SCATTERING, SOLID-STATE NMR',\n",
              " 'ELECTRON MICROSCOPY, SOLID-STATE NMR',\n",
              " 'SOLUTION SCATTERING, X-RAY DIFFRACTION',\n",
              " 'NEUTRON DIFFRACTION, SOLUTION NMR',\n",
              " 'dummy strings here']"
            ]
          },
          "metadata": {},
          "execution_count": 86
        }
      ]
    },
    {
      "cell_type": "code",
      "source": [
        "rep_dict_ = {}\n",
        "for ut in include_dummy:\n",
        "    rep_dict_[ut] = []\n",
        "    for i, t in enumerate(unique_tech):\n",
        "        if t in ut.split(', '):\n",
        "            rep_dict_[ut].append(i)\n",
        "    if len(rep_dict[ut]) == 0:\n",
        "        rep_dict_[ut].append(len(unique_tech))"
      ],
      "metadata": {
        "id": "6yDk_6NodrvI"
      },
      "execution_count": 104,
      "outputs": []
    },
    {
      "cell_type": "code",
      "source": [
        "rep_dict_"
      ],
      "metadata": {
        "colab": {
          "base_uri": "https://localhost:8080/"
        },
        "id": "Nq9VUgw_h-An",
        "outputId": "0b4813c8-bc82-41ef-cb6b-8da07803576f"
      },
      "execution_count": 105,
      "outputs": [
        {
          "output_type": "execute_result",
          "data": {
            "text/plain": [
              "{'CRYO-ELECTRON MICROSCOPY': [0],\n",
              " 'ELECTRON CRYSTALLOGRAPHY': [1],\n",
              " 'ELECTRON DIFFRACTION': [2],\n",
              " 'ELECTRON MICROSCOPY': [3],\n",
              " 'ELECTRON MICROSCOPY, SOLID-STATE NMR': [3, 10],\n",
              " 'ELECTRON MICROSCOPY, SOLUTION SCATTERING': [3, 12],\n",
              " 'ELECTRON MICROSCOPY, SOLUTION SCATTERING, SOLID-STATE NMR': [3, 10, 12],\n",
              " 'EPR, X-RAY DIFFRACTION': [4, 14],\n",
              " 'FIBER DIFFRACTION': [5],\n",
              " 'FIBER DIFFRACTION, SOLID-STATE NMR': [5, 10],\n",
              " 'FLUORESCENCE TRANSFER': [6],\n",
              " 'INFRARED SPECTROSCOPY': [7],\n",
              " 'NEUTRON DIFFRACTION': [8],\n",
              " 'NEUTRON DIFFRACTION, SOLUTION NMR': [8, 11],\n",
              " 'NEUTRON DIFFRACTION, X-RAY DIFFRACTION': [8, 14],\n",
              " 'POWDER DIFFRACTION': [9],\n",
              " 'SOLID-STATE NMR': [10],\n",
              " 'SOLID-STATE NMR, ELECTRON MICROSCOPY': [3, 10],\n",
              " 'SOLID-STATE NMR, SOLUTION NMR': [10, 11],\n",
              " 'SOLUTION NMR': [11],\n",
              " 'SOLUTION NMR, EPR': [4, 11],\n",
              " 'SOLUTION NMR, SOLID-STATE NMR': [10, 11],\n",
              " 'SOLUTION NMR, SOLUTION SCATTERING': [11, 12],\n",
              " 'SOLUTION NMR, THEORETICAL MODEL': [11, 13],\n",
              " 'SOLUTION SCATTERING': [12],\n",
              " 'SOLUTION SCATTERING, ELECTRON MICROSCOPY': [3, 12],\n",
              " 'SOLUTION SCATTERING, SOLUTION NMR': [11, 12],\n",
              " 'SOLUTION SCATTERING, X-RAY DIFFRACTION': [12, 14],\n",
              " 'THEORETICAL MODEL, SOLUTION NMR': [11, 13],\n",
              " 'X-RAY DIFFRACTION': [14],\n",
              " 'X-RAY DIFFRACTION, EPR': [4, 14],\n",
              " 'X-RAY DIFFRACTION, NEUTRON DIFFRACTION': [8, 14],\n",
              " 'X-RAY DIFFRACTION, SOLUTION NMR': [11, 14],\n",
              " 'dummy strings here': []}"
            ]
          },
          "metadata": {},
          "execution_count": 105
        }
      ]
    },
    {
      "cell_type": "code",
      "source": [
        ""
      ],
      "metadata": {
        "id": "NeRiN1_6h_Gx"
      },
      "execution_count": null,
      "outputs": []
    }
  ]
}